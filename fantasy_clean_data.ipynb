{
 "metadata": {
  "language_info": {
   "codemirror_mode": {
    "name": "ipython",
    "version": 3
   },
   "file_extension": ".py",
   "mimetype": "text/x-python",
   "name": "python",
   "nbconvert_exporter": "python",
   "pygments_lexer": "ipython3",
   "version": "3.9.2"
  },
  "orig_nbformat": 2,
  "kernelspec": {
   "name": "python392jvsc74a57bd010d1c863a3ff2ca80aaa05f36452661e8441d540f6d56b860b3f365ea6a69f17",
   "display_name": "Python 3.9.2 64-bit ('testing': conda)"
  }
 },
 "nbformat": 4,
 "nbformat_minor": 2,
 "cells": [
  {
   "cell_type": "code",
   "execution_count": 32,
   "metadata": {},
   "outputs": [],
   "source": [
    "import matplotlib.pyplot as plt\n",
    "\n",
    "import pandas as pd\n",
    "import requests\n",
    "import json\n",
    "import csv"
   ]
  },
  {
   "cell_type": "code",
   "execution_count": 65,
   "metadata": {},
   "outputs": [],
   "source": [
    "\n",
    "\n",
    "#Get and clean premier league data\n",
    "bs_response = requests.get('https://fantasy.premierleague.com/api/bootstrap-static/')\n",
    "\n",
    "bs_data = json.loads(bs_response.text)\n",
    "\n",
    "#assign \n",
    "events = bs_data['events']\n",
    "players = bs_data['elements']\n",
    "teams = bs_data['teams'] \n"
   ]
  },
  {
   "cell_type": "code",
   "execution_count": 57,
   "metadata": {},
   "outputs": [
    {
     "output_type": "execute_result",
     "data": {
      "text/plain": [
       "   element_type position_name\n",
       "0             1    Goalkeeper\n",
       "1             2      Defender\n",
       "2             3    Midfielder\n",
       "3             4       Forward"
      ],
      "text/html": "<div>\n<style scoped>\n    .dataframe tbody tr th:only-of-type {\n        vertical-align: middle;\n    }\n\n    .dataframe tbody tr th {\n        vertical-align: top;\n    }\n\n    .dataframe thead th {\n        text-align: right;\n    }\n</style>\n<table border=\"1\" class=\"dataframe\">\n  <thead>\n    <tr style=\"text-align: right;\">\n      <th></th>\n      <th>element_type</th>\n      <th>position_name</th>\n    </tr>\n  </thead>\n  <tbody>\n    <tr>\n      <th>0</th>\n      <td>1</td>\n      <td>Goalkeeper</td>\n    </tr>\n    <tr>\n      <th>1</th>\n      <td>2</td>\n      <td>Defender</td>\n    </tr>\n    <tr>\n      <th>2</th>\n      <td>3</td>\n      <td>Midfielder</td>\n    </tr>\n    <tr>\n      <th>3</th>\n      <td>4</td>\n      <td>Forward</td>\n    </tr>\n  </tbody>\n</table>\n</div>"
     },
     "metadata": {},
     "execution_count": 57
    }
   ],
   "source": [
    "#convert positions to dataframe and extract relevant columns to merge later\n",
    "positions_df = pd.DataFrame(positions)\n",
    "positions_df = positions_df[['id', 'singular_name']]\n",
    "positions_df.columns = ['element_type', 'position_name']\n",
    "positions_df"
   ]
  },
  {
   "cell_type": "code",
   "execution_count": 112,
   "metadata": {},
   "outputs": [
    {
     "output_type": "execute_result",
     "data": {
      "text/plain": [
       "   player_id  element_type  team_id                        name\n",
       "0          1             3        1                  Mesut Özil\n",
       "1          2             2        1   Sokratis Papastathopoulos\n",
       "2          3             2        1  David Luiz Moreira Marinho\n",
       "3          4             3        1   Pierre-Emerick Aubameyang\n",
       "4          5             2        1               Cédric Soares"
      ],
      "text/html": "<div>\n<style scoped>\n    .dataframe tbody tr th:only-of-type {\n        vertical-align: middle;\n    }\n\n    .dataframe tbody tr th {\n        vertical-align: top;\n    }\n\n    .dataframe thead th {\n        text-align: right;\n    }\n</style>\n<table border=\"1\" class=\"dataframe\">\n  <thead>\n    <tr style=\"text-align: right;\">\n      <th></th>\n      <th>player_id</th>\n      <th>element_type</th>\n      <th>team_id</th>\n      <th>name</th>\n    </tr>\n  </thead>\n  <tbody>\n    <tr>\n      <th>0</th>\n      <td>1</td>\n      <td>3</td>\n      <td>1</td>\n      <td>Mesut Özil</td>\n    </tr>\n    <tr>\n      <th>1</th>\n      <td>2</td>\n      <td>2</td>\n      <td>1</td>\n      <td>Sokratis Papastathopoulos</td>\n    </tr>\n    <tr>\n      <th>2</th>\n      <td>3</td>\n      <td>2</td>\n      <td>1</td>\n      <td>David Luiz Moreira Marinho</td>\n    </tr>\n    <tr>\n      <th>3</th>\n      <td>4</td>\n      <td>3</td>\n      <td>1</td>\n      <td>Pierre-Emerick Aubameyang</td>\n    </tr>\n    <tr>\n      <th>4</th>\n      <td>5</td>\n      <td>2</td>\n      <td>1</td>\n      <td>Cédric Soares</td>\n    </tr>\n  </tbody>\n</table>\n</div>"
     },
     "metadata": {},
     "execution_count": 112
    }
   ],
   "source": [
    "#Make dataframe with name, id and position id\n",
    "players_df = pd.DataFrame(players)\n",
    "\n",
    "players_df = players_df[['id', 'first_name', 'second_name', 'element_type', 'team']]\n",
    "players_df.columns = ['player_id', 'first_name', 'second_name', 'element_type', 'team_id']\n",
    "players_df['name'] = players_df['first_name'] + ' ' +  players_df['second_name']\n",
    "players_df.drop(['first_name', 'second_name'], axis=1, inplace=True)\n",
    "players_df.head()\n"
   ]
  },
  {
   "cell_type": "code",
   "execution_count": 115,
   "metadata": {},
   "outputs": [
    {
     "output_type": "execute_result",
     "data": {
      "text/plain": [
       "                                 name position_name  team_id\n",
       "player_id                                                   \n",
       "1                          Mesut Özil    Midfielder        1\n",
       "2           Sokratis Papastathopoulos      Defender        1\n",
       "3          David Luiz Moreira Marinho      Defender        1\n",
       "4           Pierre-Emerick Aubameyang    Midfielder        1\n",
       "5                       Cédric Soares      Defender        1"
      ],
      "text/html": "<div>\n<style scoped>\n    .dataframe tbody tr th:only-of-type {\n        vertical-align: middle;\n    }\n\n    .dataframe tbody tr th {\n        vertical-align: top;\n    }\n\n    .dataframe thead th {\n        text-align: right;\n    }\n</style>\n<table border=\"1\" class=\"dataframe\">\n  <thead>\n    <tr style=\"text-align: right;\">\n      <th></th>\n      <th>name</th>\n      <th>position_name</th>\n      <th>team_id</th>\n    </tr>\n    <tr>\n      <th>player_id</th>\n      <th></th>\n      <th></th>\n      <th></th>\n    </tr>\n  </thead>\n  <tbody>\n    <tr>\n      <th>1</th>\n      <td>Mesut Özil</td>\n      <td>Midfielder</td>\n      <td>1</td>\n    </tr>\n    <tr>\n      <th>2</th>\n      <td>Sokratis Papastathopoulos</td>\n      <td>Defender</td>\n      <td>1</td>\n    </tr>\n    <tr>\n      <th>3</th>\n      <td>David Luiz Moreira Marinho</td>\n      <td>Defender</td>\n      <td>1</td>\n    </tr>\n    <tr>\n      <th>4</th>\n      <td>Pierre-Emerick Aubameyang</td>\n      <td>Midfielder</td>\n      <td>1</td>\n    </tr>\n    <tr>\n      <th>5</th>\n      <td>Cédric Soares</td>\n      <td>Defender</td>\n      <td>1</td>\n    </tr>\n  </tbody>\n</table>\n</div>"
     },
     "metadata": {},
     "execution_count": 115
    }
   ],
   "source": [
    "#merge positions with player position ids\n",
    "\n",
    "player_pos_df = players_df.merge(positions_df, left_on='element_type', right_on='element_type', how='inner')\n",
    "player_pos_df.sort_values(by=['player_id'], inplace=True)\n",
    "player_pos_df = player_pos_df.set_index('player_id')\n",
    "player_pos_df = player_pos_df.drop('element_type', axis=1)\n",
    "player_pos_df = player_pos_df[['name', 'position_name', 'team_id']]\n",
    "player_pos_df.head()\n"
   ]
  },
  {
   "cell_type": "code",
   "execution_count": 107,
   "metadata": {},
   "outputs": [
    {
     "output_type": "execute_result",
     "data": {
      "text/plain": [
       "   index  team_id team_name\n",
       "0      1        1   Arsenal\n",
       "1      2        1   Arsenal\n",
       "2      3        1   Arsenal\n",
       "3      4        1   Arsenal\n",
       "4      5        1   Arsenal"
      ],
      "text/html": "<div>\n<style scoped>\n    .dataframe tbody tr th:only-of-type {\n        vertical-align: middle;\n    }\n\n    .dataframe tbody tr th {\n        vertical-align: top;\n    }\n\n    .dataframe thead th {\n        text-align: right;\n    }\n</style>\n<table border=\"1\" class=\"dataframe\">\n  <thead>\n    <tr style=\"text-align: right;\">\n      <th></th>\n      <th>index</th>\n      <th>team_id</th>\n      <th>team_name</th>\n    </tr>\n  </thead>\n  <tbody>\n    <tr>\n      <th>0</th>\n      <td>1</td>\n      <td>1</td>\n      <td>Arsenal</td>\n    </tr>\n    <tr>\n      <th>1</th>\n      <td>2</td>\n      <td>1</td>\n      <td>Arsenal</td>\n    </tr>\n    <tr>\n      <th>2</th>\n      <td>3</td>\n      <td>1</td>\n      <td>Arsenal</td>\n    </tr>\n    <tr>\n      <th>3</th>\n      <td>4</td>\n      <td>1</td>\n      <td>Arsenal</td>\n    </tr>\n    <tr>\n      <th>4</th>\n      <td>5</td>\n      <td>1</td>\n      <td>Arsenal</td>\n    </tr>\n  </tbody>\n</table>\n</div>"
     },
     "metadata": {},
     "execution_count": 107
    }
   ],
   "source": [
    "\n",
    "\n",
    "#create list of player ids and teams to join with stats\n",
    "\n",
    "team_list = {}\n",
    "for team in teams:\n",
    "    team_list[team['id']] = team['name']\n",
    "\n",
    "\n",
    "team_df = pd.DataFrame.from_dict(team_list, orient='index', columns=['team_name'])\n",
    "#print(team_df.head()) # team_id: team_name\n",
    "\n",
    "player_on_team = {}\n",
    "for player in players:\n",
    "    player_on_team[player['id']] = player['team']\n",
    "player_on_team_df = pd.DataFrame.from_dict(player_on_team, orient='index', columns=['team_id'])\n",
    "\n",
    "#join team list and player on team to add to csv file\n",
    "players_teams_df = player_on_team_df.join(team_df, on='team_id')\n",
    "players_teams_df = players_teams_df.reset_index()\n",
    "players_teams_df.head()\n"
   ]
  },
  {
   "cell_type": "code",
   "execution_count": 120,
   "metadata": {},
   "outputs": [
    {
     "output_type": "execute_result",
     "data": {
      "text/plain": [
       "                         name position_name  team_id team_name\n",
       "0                  Mesut Özil    Midfielder        1   Arsenal\n",
       "1   Sokratis Papastathopoulos      Defender        1   Arsenal\n",
       "2  David Luiz Moreira Marinho      Defender        1   Arsenal\n",
       "3   Pierre-Emerick Aubameyang    Midfielder        1   Arsenal\n",
       "4               Cédric Soares      Defender        1   Arsenal"
      ],
      "text/html": "<div>\n<style scoped>\n    .dataframe tbody tr th:only-of-type {\n        vertical-align: middle;\n    }\n\n    .dataframe tbody tr th {\n        vertical-align: top;\n    }\n\n    .dataframe thead th {\n        text-align: right;\n    }\n</style>\n<table border=\"1\" class=\"dataframe\">\n  <thead>\n    <tr style=\"text-align: right;\">\n      <th></th>\n      <th>name</th>\n      <th>position_name</th>\n      <th>team_id</th>\n      <th>team_name</th>\n    </tr>\n  </thead>\n  <tbody>\n    <tr>\n      <th>0</th>\n      <td>Mesut Özil</td>\n      <td>Midfielder</td>\n      <td>1</td>\n      <td>Arsenal</td>\n    </tr>\n    <tr>\n      <th>1</th>\n      <td>Sokratis Papastathopoulos</td>\n      <td>Defender</td>\n      <td>1</td>\n      <td>Arsenal</td>\n    </tr>\n    <tr>\n      <th>2</th>\n      <td>David Luiz Moreira Marinho</td>\n      <td>Defender</td>\n      <td>1</td>\n      <td>Arsenal</td>\n    </tr>\n    <tr>\n      <th>3</th>\n      <td>Pierre-Emerick Aubameyang</td>\n      <td>Midfielder</td>\n      <td>1</td>\n      <td>Arsenal</td>\n    </tr>\n    <tr>\n      <th>4</th>\n      <td>Cédric Soares</td>\n      <td>Defender</td>\n      <td>1</td>\n      <td>Arsenal</td>\n    </tr>\n  </tbody>\n</table>\n</div>"
     },
     "metadata": {},
     "execution_count": 120
    }
   ],
   "source": [
    "#make dataframe with teams and their ids to merge with players_df\n",
    "teams_df = pd.DataFrame(teams)\n",
    "teams_df = teams_df[['id', 'name']]\n",
    "teams_df.columns = ['team_id', 'team_name']\n",
    "teams_df.head()\n",
    "\n",
    "players_df = player_pos_df.merge(teams_df, left_on='team_id', right_on='team_id')\n",
    "players_df.head()"
   ]
  },
  {
   "cell_type": "code",
   "execution_count": 37,
   "metadata": {},
   "outputs": [],
   "source": [
    "#Generate links for each player\n",
    "# url = 'https://fantasy.premierleague.com/api/element-summary/' + str(player_dict[player]) + '/'\n",
    "player_urls = []\n",
    "\n",
    "for player in players:\n",
    "    player_urls.append('https://fantasy.premierleague.com/api/element-summary/' + str(player['id']) + '/')\n"
   ]
  },
  {
   "cell_type": "code",
   "execution_count": 40,
   "metadata": {},
   "outputs": [],
   "source": [
    "#Loop through player URLS and add the results to a dataframe and save it to a csv fil\n",
    "players_df = None\n",
    " \n",
    "# create the csv writer object\n",
    "csv_writer = csv.writer(data_file)\n",
    "\n",
    "'''\n",
    "#uncomment to run url calls\n",
    "# now we will open a file for writing\n",
    "data_file = open('player_stats.csv', 'w')\n",
    "\n",
    "count = 0\n",
    "for url in player_urls:\n",
    "    response = requests.get(url)\n",
    "    player_data =  response.json() #creates python dictionary from json response\n",
    "    \n",
    "    for player in player_data['history']:\n",
    "        if count == 0:\n",
    "            header = player.keys()\n",
    "            csv_writer.writerow(header)\n",
    "            count+=1\n",
    "        csv_writer.writerow(player.values())\n",
    "\n",
    "data_file.close()\n",
    "'''"
   ]
  },
  {
   "cell_type": "code",
   "execution_count": null,
   "metadata": {},
   "outputs": [],
   "source": []
  },
  {
   "cell_type": "code",
   "execution_count": 48,
   "metadata": {},
   "outputs": [
    {
     "output_type": "execute_result",
     "data": {
      "text/plain": [
       "       fixture  opponent_team  total_points  was_home          kickoff_time  \\\n",
       "0            2              8             0     False  2020-09-12T11:30:00Z   \n",
       "1            9             19             0      True  2020-09-19T19:00:00Z   \n",
       "2           23             11             0     False  2020-09-28T19:00:00Z   \n",
       "3           29             15             0      True  2020-10-04T13:00:00Z   \n",
       "4           44             12             0     False  2020-10-17T16:30:00Z   \n",
       "...        ...            ...           ...       ...                   ...   \n",
       "21300      255             14             2     False  2021-02-27T20:00:00Z   \n",
       "21301      284             12             0     False  2021-03-02T20:00:00Z   \n",
       "21302      259              2             2     False  2021-03-06T17:30:00Z   \n",
       "21303      278             11             2      True  2021-03-15T20:00:00Z   \n",
       "21304      298             19             2      True  2021-04-05T19:15:00Z   \n",
       "\n",
       "       team_h_score  team_a_score  round  minutes  goals_scored  ...  \\\n",
       "0                 0             3      1        0             0  ...   \n",
       "1                 2             1      2        0             0  ...   \n",
       "2                 3             1      3        0             0  ...   \n",
       "3                 2             1      4        0             0  ...   \n",
       "4                 1             0      5        0             0  ...   \n",
       "...             ...           ...    ...      ...           ...  ...   \n",
       "21300             1             1     26       82             0  ...   \n",
       "21301             4             1     26        0             0  ...   \n",
       "21302             0             0     27       77             0  ...   \n",
       "21303             0             1     28       69             0  ...   \n",
       "21304             2             3     30       71             0  ...   \n",
       "\n",
       "       ict_index  value  transfers_balance  selected  transfers_in  \\\n",
       "0            0.0     70                  0     76656             0   \n",
       "1            0.0     69             -16828     68335           995   \n",
       "2            0.0     69             -11451     59793           675   \n",
       "3            0.0     68              -5324     56403           647   \n",
       "4            0.0     68              -4224     53689           616   \n",
       "...          ...    ...                ...       ...           ...   \n",
       "21300        1.7     70              -1925     20524          4746   \n",
       "21301        0.0     70              -1925     20524          4746   \n",
       "21302        2.4     70              -4078     16772          1448   \n",
       "21303        1.0     69              -2932     14065          1045   \n",
       "21304        7.3     68               -709     12547           740   \n",
       "\n",
       "       transfers_out  index  team_id  team_name                   name  \n",
       "0                  0      1        1    Arsenal             Mesut Özil  \n",
       "1              17823      1        1    Arsenal             Mesut Özil  \n",
       "2              12126      1        1    Arsenal             Mesut Özil  \n",
       "3               5971      1        1    Arsenal             Mesut Özil  \n",
       "4               4840      1        1    Arsenal             Mesut Özil  \n",
       "...              ...    ...      ...        ...                    ...  \n",
       "21300           6671    642       20     Wolves  Willian José Da Silva  \n",
       "21301           6671    642       20     Wolves  Willian José Da Silva  \n",
       "21302           5526    642       20     Wolves  Willian José Da Silva  \n",
       "21303           3977    642       20     Wolves  Willian José Da Silva  \n",
       "21304           1449    642       20     Wolves  Willian José Da Silva  \n",
       "\n",
       "[21305 rows x 34 columns]"
      ],
      "text/html": "<div>\n<style scoped>\n    .dataframe tbody tr th:only-of-type {\n        vertical-align: middle;\n    }\n\n    .dataframe tbody tr th {\n        vertical-align: top;\n    }\n\n    .dataframe thead th {\n        text-align: right;\n    }\n</style>\n<table border=\"1\" class=\"dataframe\">\n  <thead>\n    <tr style=\"text-align: right;\">\n      <th></th>\n      <th>fixture</th>\n      <th>opponent_team</th>\n      <th>total_points</th>\n      <th>was_home</th>\n      <th>kickoff_time</th>\n      <th>team_h_score</th>\n      <th>team_a_score</th>\n      <th>round</th>\n      <th>minutes</th>\n      <th>goals_scored</th>\n      <th>...</th>\n      <th>ict_index</th>\n      <th>value</th>\n      <th>transfers_balance</th>\n      <th>selected</th>\n      <th>transfers_in</th>\n      <th>transfers_out</th>\n      <th>index</th>\n      <th>team_id</th>\n      <th>team_name</th>\n      <th>name</th>\n    </tr>\n  </thead>\n  <tbody>\n    <tr>\n      <th>0</th>\n      <td>2</td>\n      <td>8</td>\n      <td>0</td>\n      <td>False</td>\n      <td>2020-09-12T11:30:00Z</td>\n      <td>0</td>\n      <td>3</td>\n      <td>1</td>\n      <td>0</td>\n      <td>0</td>\n      <td>...</td>\n      <td>0.0</td>\n      <td>70</td>\n      <td>0</td>\n      <td>76656</td>\n      <td>0</td>\n      <td>0</td>\n      <td>1</td>\n      <td>1</td>\n      <td>Arsenal</td>\n      <td>Mesut Özil</td>\n    </tr>\n    <tr>\n      <th>1</th>\n      <td>9</td>\n      <td>19</td>\n      <td>0</td>\n      <td>True</td>\n      <td>2020-09-19T19:00:00Z</td>\n      <td>2</td>\n      <td>1</td>\n      <td>2</td>\n      <td>0</td>\n      <td>0</td>\n      <td>...</td>\n      <td>0.0</td>\n      <td>69</td>\n      <td>-16828</td>\n      <td>68335</td>\n      <td>995</td>\n      <td>17823</td>\n      <td>1</td>\n      <td>1</td>\n      <td>Arsenal</td>\n      <td>Mesut Özil</td>\n    </tr>\n    <tr>\n      <th>2</th>\n      <td>23</td>\n      <td>11</td>\n      <td>0</td>\n      <td>False</td>\n      <td>2020-09-28T19:00:00Z</td>\n      <td>3</td>\n      <td>1</td>\n      <td>3</td>\n      <td>0</td>\n      <td>0</td>\n      <td>...</td>\n      <td>0.0</td>\n      <td>69</td>\n      <td>-11451</td>\n      <td>59793</td>\n      <td>675</td>\n      <td>12126</td>\n      <td>1</td>\n      <td>1</td>\n      <td>Arsenal</td>\n      <td>Mesut Özil</td>\n    </tr>\n    <tr>\n      <th>3</th>\n      <td>29</td>\n      <td>15</td>\n      <td>0</td>\n      <td>True</td>\n      <td>2020-10-04T13:00:00Z</td>\n      <td>2</td>\n      <td>1</td>\n      <td>4</td>\n      <td>0</td>\n      <td>0</td>\n      <td>...</td>\n      <td>0.0</td>\n      <td>68</td>\n      <td>-5324</td>\n      <td>56403</td>\n      <td>647</td>\n      <td>5971</td>\n      <td>1</td>\n      <td>1</td>\n      <td>Arsenal</td>\n      <td>Mesut Özil</td>\n    </tr>\n    <tr>\n      <th>4</th>\n      <td>44</td>\n      <td>12</td>\n      <td>0</td>\n      <td>False</td>\n      <td>2020-10-17T16:30:00Z</td>\n      <td>1</td>\n      <td>0</td>\n      <td>5</td>\n      <td>0</td>\n      <td>0</td>\n      <td>...</td>\n      <td>0.0</td>\n      <td>68</td>\n      <td>-4224</td>\n      <td>53689</td>\n      <td>616</td>\n      <td>4840</td>\n      <td>1</td>\n      <td>1</td>\n      <td>Arsenal</td>\n      <td>Mesut Özil</td>\n    </tr>\n    <tr>\n      <th>...</th>\n      <td>...</td>\n      <td>...</td>\n      <td>...</td>\n      <td>...</td>\n      <td>...</td>\n      <td>...</td>\n      <td>...</td>\n      <td>...</td>\n      <td>...</td>\n      <td>...</td>\n      <td>...</td>\n      <td>...</td>\n      <td>...</td>\n      <td>...</td>\n      <td>...</td>\n      <td>...</td>\n      <td>...</td>\n      <td>...</td>\n      <td>...</td>\n      <td>...</td>\n      <td>...</td>\n    </tr>\n    <tr>\n      <th>21300</th>\n      <td>255</td>\n      <td>14</td>\n      <td>2</td>\n      <td>False</td>\n      <td>2021-02-27T20:00:00Z</td>\n      <td>1</td>\n      <td>1</td>\n      <td>26</td>\n      <td>82</td>\n      <td>0</td>\n      <td>...</td>\n      <td>1.7</td>\n      <td>70</td>\n      <td>-1925</td>\n      <td>20524</td>\n      <td>4746</td>\n      <td>6671</td>\n      <td>642</td>\n      <td>20</td>\n      <td>Wolves</td>\n      <td>Willian José Da Silva</td>\n    </tr>\n    <tr>\n      <th>21301</th>\n      <td>284</td>\n      <td>12</td>\n      <td>0</td>\n      <td>False</td>\n      <td>2021-03-02T20:00:00Z</td>\n      <td>4</td>\n      <td>1</td>\n      <td>26</td>\n      <td>0</td>\n      <td>0</td>\n      <td>...</td>\n      <td>0.0</td>\n      <td>70</td>\n      <td>-1925</td>\n      <td>20524</td>\n      <td>4746</td>\n      <td>6671</td>\n      <td>642</td>\n      <td>20</td>\n      <td>Wolves</td>\n      <td>Willian José Da Silva</td>\n    </tr>\n    <tr>\n      <th>21302</th>\n      <td>259</td>\n      <td>2</td>\n      <td>2</td>\n      <td>False</td>\n      <td>2021-03-06T17:30:00Z</td>\n      <td>0</td>\n      <td>0</td>\n      <td>27</td>\n      <td>77</td>\n      <td>0</td>\n      <td>...</td>\n      <td>2.4</td>\n      <td>70</td>\n      <td>-4078</td>\n      <td>16772</td>\n      <td>1448</td>\n      <td>5526</td>\n      <td>642</td>\n      <td>20</td>\n      <td>Wolves</td>\n      <td>Willian José Da Silva</td>\n    </tr>\n    <tr>\n      <th>21303</th>\n      <td>278</td>\n      <td>11</td>\n      <td>2</td>\n      <td>True</td>\n      <td>2021-03-15T20:00:00Z</td>\n      <td>0</td>\n      <td>1</td>\n      <td>28</td>\n      <td>69</td>\n      <td>0</td>\n      <td>...</td>\n      <td>1.0</td>\n      <td>69</td>\n      <td>-2932</td>\n      <td>14065</td>\n      <td>1045</td>\n      <td>3977</td>\n      <td>642</td>\n      <td>20</td>\n      <td>Wolves</td>\n      <td>Willian José Da Silva</td>\n    </tr>\n    <tr>\n      <th>21304</th>\n      <td>298</td>\n      <td>19</td>\n      <td>2</td>\n      <td>True</td>\n      <td>2021-04-05T19:15:00Z</td>\n      <td>2</td>\n      <td>3</td>\n      <td>30</td>\n      <td>71</td>\n      <td>0</td>\n      <td>...</td>\n      <td>7.3</td>\n      <td>68</td>\n      <td>-709</td>\n      <td>12547</td>\n      <td>740</td>\n      <td>1449</td>\n      <td>642</td>\n      <td>20</td>\n      <td>Wolves</td>\n      <td>Willian José Da Silva</td>\n    </tr>\n  </tbody>\n</table>\n<p>21305 rows × 34 columns</p>\n</div>"
     },
     "metadata": {},
     "execution_count": 48
    }
   ],
   "source": [
    "#data wrangling to combine team names and player names to csv file\n",
    "#read csv file into pandas dataframe\n",
    "#df = pd.read_csv('player_stats.csv', header=0, index_col=0)\n",
    "#display(df.head())\n",
    "#display(players_teams_df.head())\n",
    "#display(player_id_df.head())\n",
    "\n",
    "df_with_teams = df.merge(players_teams_df, left_on='element', right_on='index', how='inner')\n",
    "df_with_teams.head() \n",
    "\n",
    "df_with_teams = df_with_teams.merge(player_id_df, left_on='index', right_on='index', how='inner')\n",
    "df_with_teams\n",
    "\n",
    "\n"
   ]
  },
  {
   "cell_type": "code",
   "execution_count": 19,
   "metadata": {},
   "outputs": [],
   "source": [
    "#adds gameweek as new column\n",
    "\n",
    "'''\n",
    "gameweeks = set()\n",
    "kickoff_time = df['kickoff_time']\n",
    "for gameweek in kickoff_time:\n",
    "    g = gameweek.split('T')[0]\n",
    "    gameweeks.add(g)\n",
    "\n",
    "gameweeks = list(gameweeks)\n",
    "gameweeks = sorted(gameweeks, reverse=True)\n",
    "\n",
    "\n",
    "new = df['kickoff_time'].str.split('T', n = 1, expand= True)\n",
    "\n",
    "df['gameweek'] = new[0]\n",
    "'''\n"
   ]
  },
  {
   "cell_type": "code",
   "execution_count": 27,
   "metadata": {},
   "outputs": [
    {
     "output_type": "display_data",
     "data": {
      "text/plain": "   element  fixture  opponent_team  total_points  was_home  \\\n0        1        2              8             0     False   \n1        1        9             19             0      True   \n2        1       23             11             0     False   \n3        1       29             15             0      True   \n4        1       44             12             0     False   \n\n           kickoff_time  team_h_score  team_a_score  round  minutes  ...  \\\n0  2020-09-12T11:30:00Z           0.0           3.0      1        0  ...   \n1  2020-09-19T19:00:00Z           2.0           1.0      2        0  ...   \n2  2020-09-28T19:00:00Z           3.0           1.0      3        0  ...   \n3  2020-10-04T13:00:00Z           2.0           1.0      4        0  ...   \n4  2020-10-17T16:30:00Z           1.0           0.0      5        0  ...   \n\n   transfers_out  index  team_id  team_name        name    gameweek  \\\n0              0      1        1    Arsenal  Mesut Özil  2020-09-12   \n1          17823      1        1    Arsenal  Mesut Özil  2020-09-19   \n2          12126      1        1    Arsenal  Mesut Özil  2020-09-28   \n3           5971      1        1    Arsenal  Mesut Özil  2020-10-04   \n4           4840      1        1    Arsenal  Mesut Özil  2020-10-17   \n\n   element_type_x  position_name_x  element_type_y  position_name_y  \n0               3       Midfielder               3       Midfielder  \n1               3       Midfielder               3       Midfielder  \n2               3       Midfielder               3       Midfielder  \n3               3       Midfielder               3       Midfielder  \n4               3       Midfielder               3       Midfielder  \n\n[5 rows x 40 columns]",
      "text/html": "<div>\n<style scoped>\n    .dataframe tbody tr th:only-of-type {\n        vertical-align: middle;\n    }\n\n    .dataframe tbody tr th {\n        vertical-align: top;\n    }\n\n    .dataframe thead th {\n        text-align: right;\n    }\n</style>\n<table border=\"1\" class=\"dataframe\">\n  <thead>\n    <tr style=\"text-align: right;\">\n      <th></th>\n      <th>element</th>\n      <th>fixture</th>\n      <th>opponent_team</th>\n      <th>total_points</th>\n      <th>was_home</th>\n      <th>kickoff_time</th>\n      <th>team_h_score</th>\n      <th>team_a_score</th>\n      <th>round</th>\n      <th>minutes</th>\n      <th>...</th>\n      <th>transfers_out</th>\n      <th>index</th>\n      <th>team_id</th>\n      <th>team_name</th>\n      <th>name</th>\n      <th>gameweek</th>\n      <th>element_type_x</th>\n      <th>position_name_x</th>\n      <th>element_type_y</th>\n      <th>position_name_y</th>\n    </tr>\n  </thead>\n  <tbody>\n    <tr>\n      <th>0</th>\n      <td>1</td>\n      <td>2</td>\n      <td>8</td>\n      <td>0</td>\n      <td>False</td>\n      <td>2020-09-12T11:30:00Z</td>\n      <td>0.0</td>\n      <td>3.0</td>\n      <td>1</td>\n      <td>0</td>\n      <td>...</td>\n      <td>0</td>\n      <td>1</td>\n      <td>1</td>\n      <td>Arsenal</td>\n      <td>Mesut Özil</td>\n      <td>2020-09-12</td>\n      <td>3</td>\n      <td>Midfielder</td>\n      <td>3</td>\n      <td>Midfielder</td>\n    </tr>\n    <tr>\n      <th>1</th>\n      <td>1</td>\n      <td>9</td>\n      <td>19</td>\n      <td>0</td>\n      <td>True</td>\n      <td>2020-09-19T19:00:00Z</td>\n      <td>2.0</td>\n      <td>1.0</td>\n      <td>2</td>\n      <td>0</td>\n      <td>...</td>\n      <td>17823</td>\n      <td>1</td>\n      <td>1</td>\n      <td>Arsenal</td>\n      <td>Mesut Özil</td>\n      <td>2020-09-19</td>\n      <td>3</td>\n      <td>Midfielder</td>\n      <td>3</td>\n      <td>Midfielder</td>\n    </tr>\n    <tr>\n      <th>2</th>\n      <td>1</td>\n      <td>23</td>\n      <td>11</td>\n      <td>0</td>\n      <td>False</td>\n      <td>2020-09-28T19:00:00Z</td>\n      <td>3.0</td>\n      <td>1.0</td>\n      <td>3</td>\n      <td>0</td>\n      <td>...</td>\n      <td>12126</td>\n      <td>1</td>\n      <td>1</td>\n      <td>Arsenal</td>\n      <td>Mesut Özil</td>\n      <td>2020-09-28</td>\n      <td>3</td>\n      <td>Midfielder</td>\n      <td>3</td>\n      <td>Midfielder</td>\n    </tr>\n    <tr>\n      <th>3</th>\n      <td>1</td>\n      <td>29</td>\n      <td>15</td>\n      <td>0</td>\n      <td>True</td>\n      <td>2020-10-04T13:00:00Z</td>\n      <td>2.0</td>\n      <td>1.0</td>\n      <td>4</td>\n      <td>0</td>\n      <td>...</td>\n      <td>5971</td>\n      <td>1</td>\n      <td>1</td>\n      <td>Arsenal</td>\n      <td>Mesut Özil</td>\n      <td>2020-10-04</td>\n      <td>3</td>\n      <td>Midfielder</td>\n      <td>3</td>\n      <td>Midfielder</td>\n    </tr>\n    <tr>\n      <th>4</th>\n      <td>1</td>\n      <td>44</td>\n      <td>12</td>\n      <td>0</td>\n      <td>False</td>\n      <td>2020-10-17T16:30:00Z</td>\n      <td>1.0</td>\n      <td>0.0</td>\n      <td>5</td>\n      <td>0</td>\n      <td>...</td>\n      <td>4840</td>\n      <td>1</td>\n      <td>1</td>\n      <td>Arsenal</td>\n      <td>Mesut Özil</td>\n      <td>2020-10-17</td>\n      <td>3</td>\n      <td>Midfielder</td>\n      <td>3</td>\n      <td>Midfielder</td>\n    </tr>\n  </tbody>\n</table>\n<p>5 rows × 40 columns</p>\n</div>"
     },
     "metadata": {}
    },
    {
     "output_type": "execute_result",
     "data": {
      "text/plain": [
       "           element_type position_name\n",
       "player_id                            \n",
       "1                     3    Midfielder\n",
       "4                     3    Midfielder\n",
       "9                     3    Midfielder\n",
       "18                    3    Midfielder\n",
       "19                    3    Midfielder"
      ],
      "text/html": "<div>\n<style scoped>\n    .dataframe tbody tr th:only-of-type {\n        vertical-align: middle;\n    }\n\n    .dataframe tbody tr th {\n        vertical-align: top;\n    }\n\n    .dataframe thead th {\n        text-align: right;\n    }\n</style>\n<table border=\"1\" class=\"dataframe\">\n  <thead>\n    <tr style=\"text-align: right;\">\n      <th></th>\n      <th>element_type</th>\n      <th>position_name</th>\n    </tr>\n    <tr>\n      <th>player_id</th>\n      <th></th>\n      <th></th>\n    </tr>\n  </thead>\n  <tbody>\n    <tr>\n      <th>1</th>\n      <td>3</td>\n      <td>Midfielder</td>\n    </tr>\n    <tr>\n      <th>4</th>\n      <td>3</td>\n      <td>Midfielder</td>\n    </tr>\n    <tr>\n      <th>9</th>\n      <td>3</td>\n      <td>Midfielder</td>\n    </tr>\n    <tr>\n      <th>18</th>\n      <td>3</td>\n      <td>Midfielder</td>\n    </tr>\n    <tr>\n      <th>19</th>\n      <td>3</td>\n      <td>Midfielder</td>\n    </tr>\n  </tbody>\n</table>\n</div>"
     },
     "metadata": {},
     "execution_count": 27
    }
   ],
   "source": [
    "display(df.head())\n",
    "player_pos_df.head()\n",
    "\n"
   ]
  },
  {
   "cell_type": "code",
   "execution_count": 133,
   "metadata": {},
   "outputs": [
    {
     "output_type": "execute_result",
     "data": {
      "text/plain": [
       "           fixture  opponent_team  total_points  was_home  \\\n",
       "player_id                                                   \n",
       "0                2              8             0     False   \n",
       "1                9             19             0      True   \n",
       "2               23             11             0     False   \n",
       "3               29             15             0      True   \n",
       "4               44             12             0     False   \n",
       "...            ...            ...           ...       ...   \n",
       "995             89             20             0      True   \n",
       "996            106             17             1     False   \n",
       "997            109              4             0      True   \n",
       "998            119             16             0      True   \n",
       "999            133              7             0     False   \n",
       "\n",
       "                   kickoff_time  team_h_score  team_a_score  round  minutes  \\\n",
       "player_id                                                                     \n",
       "0          2020-09-12T11:30:00Z           0.0           3.0      1        0   \n",
       "1          2020-09-19T19:00:00Z           2.0           1.0      2        0   \n",
       "2          2020-09-28T19:00:00Z           3.0           1.0      3        0   \n",
       "3          2020-10-04T13:00:00Z           2.0           1.0      4        0   \n",
       "4          2020-10-17T16:30:00Z           1.0           0.0      5        0   \n",
       "...                         ...           ...           ...    ...      ...   \n",
       "995        2020-11-29T19:15:00Z           1.0           2.0     10        0   \n",
       "996        2020-12-06T16:30:00Z           2.0           0.0     11       45   \n",
       "997        2020-12-13T19:15:00Z           0.0           1.0     12        0   \n",
       "998        2020-12-16T18:00:00Z           1.0           1.0     13        0   \n",
       "999        2020-12-19T17:30:00Z           2.0           1.0     14        0   \n",
       "\n",
       "           goals_scored  ...  value  transfers_balance  selected  \\\n",
       "player_id                ...                                       \n",
       "0                     0  ...     70                  0     76656   \n",
       "1                     0  ...     69             -16828     68335   \n",
       "2                     0  ...     69             -11451     59793   \n",
       "3                     0  ...     68              -5324     56403   \n",
       "4                     0  ...     68              -4224     53689   \n",
       "...                 ...  ...    ...                ...       ...   \n",
       "995                   0  ...     50             -15129     51099   \n",
       "996                   0  ...     50             -10758     40546   \n",
       "997                   0  ...     50              -5346     35876   \n",
       "998                   0  ...     50              -4174     31810   \n",
       "999                   0  ...     50              -3279     28639   \n",
       "\n",
       "           transfers_in  transfers_out  index  team_id  team_name  \\\n",
       "player_id                                                           \n",
       "0                     0              0      1        1    Arsenal   \n",
       "1                   995          17823      1        1    Arsenal   \n",
       "2                   675          12126      1        1    Arsenal   \n",
       "3                   647           5971      1        1    Arsenal   \n",
       "4                   616           4840      1        1    Arsenal   \n",
       "...                 ...            ...    ...      ...        ...   \n",
       "995                 682          15811    567        1    Arsenal   \n",
       "996                 525          11283    567        1    Arsenal   \n",
       "997                 702           6048    567        1    Arsenal   \n",
       "998                 102           4276    567        1    Arsenal   \n",
       "999                  83           3362    567        1    Arsenal   \n",
       "\n",
       "                    name    gameweek  \n",
       "player_id                             \n",
       "0             Mesut Özil  2020-09-12  \n",
       "1             Mesut Özil  2020-09-19  \n",
       "2             Mesut Özil  2020-09-28  \n",
       "3             Mesut Özil  2020-10-04  \n",
       "4             Mesut Özil  2020-10-17  \n",
       "...                  ...         ...  \n",
       "995        Thomas Partey  2020-11-29  \n",
       "996        Thomas Partey  2020-12-06  \n",
       "997        Thomas Partey  2020-12-13  \n",
       "998        Thomas Partey  2020-12-16  \n",
       "999        Thomas Partey  2020-12-19  \n",
       "\n",
       "[1000 rows x 35 columns]"
      ],
      "text/html": "<div>\n<style scoped>\n    .dataframe tbody tr th:only-of-type {\n        vertical-align: middle;\n    }\n\n    .dataframe tbody tr th {\n        vertical-align: top;\n    }\n\n    .dataframe thead th {\n        text-align: right;\n    }\n</style>\n<table border=\"1\" class=\"dataframe\">\n  <thead>\n    <tr style=\"text-align: right;\">\n      <th></th>\n      <th>fixture</th>\n      <th>opponent_team</th>\n      <th>total_points</th>\n      <th>was_home</th>\n      <th>kickoff_time</th>\n      <th>team_h_score</th>\n      <th>team_a_score</th>\n      <th>round</th>\n      <th>minutes</th>\n      <th>goals_scored</th>\n      <th>...</th>\n      <th>value</th>\n      <th>transfers_balance</th>\n      <th>selected</th>\n      <th>transfers_in</th>\n      <th>transfers_out</th>\n      <th>index</th>\n      <th>team_id</th>\n      <th>team_name</th>\n      <th>name</th>\n      <th>gameweek</th>\n    </tr>\n    <tr>\n      <th>player_id</th>\n      <th></th>\n      <th></th>\n      <th></th>\n      <th></th>\n      <th></th>\n      <th></th>\n      <th></th>\n      <th></th>\n      <th></th>\n      <th></th>\n      <th></th>\n      <th></th>\n      <th></th>\n      <th></th>\n      <th></th>\n      <th></th>\n      <th></th>\n      <th></th>\n      <th></th>\n      <th></th>\n      <th></th>\n    </tr>\n  </thead>\n  <tbody>\n    <tr>\n      <th>0</th>\n      <td>2</td>\n      <td>8</td>\n      <td>0</td>\n      <td>False</td>\n      <td>2020-09-12T11:30:00Z</td>\n      <td>0.0</td>\n      <td>3.0</td>\n      <td>1</td>\n      <td>0</td>\n      <td>0</td>\n      <td>...</td>\n      <td>70</td>\n      <td>0</td>\n      <td>76656</td>\n      <td>0</td>\n      <td>0</td>\n      <td>1</td>\n      <td>1</td>\n      <td>Arsenal</td>\n      <td>Mesut Özil</td>\n      <td>2020-09-12</td>\n    </tr>\n    <tr>\n      <th>1</th>\n      <td>9</td>\n      <td>19</td>\n      <td>0</td>\n      <td>True</td>\n      <td>2020-09-19T19:00:00Z</td>\n      <td>2.0</td>\n      <td>1.0</td>\n      <td>2</td>\n      <td>0</td>\n      <td>0</td>\n      <td>...</td>\n      <td>69</td>\n      <td>-16828</td>\n      <td>68335</td>\n      <td>995</td>\n      <td>17823</td>\n      <td>1</td>\n      <td>1</td>\n      <td>Arsenal</td>\n      <td>Mesut Özil</td>\n      <td>2020-09-19</td>\n    </tr>\n    <tr>\n      <th>2</th>\n      <td>23</td>\n      <td>11</td>\n      <td>0</td>\n      <td>False</td>\n      <td>2020-09-28T19:00:00Z</td>\n      <td>3.0</td>\n      <td>1.0</td>\n      <td>3</td>\n      <td>0</td>\n      <td>0</td>\n      <td>...</td>\n      <td>69</td>\n      <td>-11451</td>\n      <td>59793</td>\n      <td>675</td>\n      <td>12126</td>\n      <td>1</td>\n      <td>1</td>\n      <td>Arsenal</td>\n      <td>Mesut Özil</td>\n      <td>2020-09-28</td>\n    </tr>\n    <tr>\n      <th>3</th>\n      <td>29</td>\n      <td>15</td>\n      <td>0</td>\n      <td>True</td>\n      <td>2020-10-04T13:00:00Z</td>\n      <td>2.0</td>\n      <td>1.0</td>\n      <td>4</td>\n      <td>0</td>\n      <td>0</td>\n      <td>...</td>\n      <td>68</td>\n      <td>-5324</td>\n      <td>56403</td>\n      <td>647</td>\n      <td>5971</td>\n      <td>1</td>\n      <td>1</td>\n      <td>Arsenal</td>\n      <td>Mesut Özil</td>\n      <td>2020-10-04</td>\n    </tr>\n    <tr>\n      <th>4</th>\n      <td>44</td>\n      <td>12</td>\n      <td>0</td>\n      <td>False</td>\n      <td>2020-10-17T16:30:00Z</td>\n      <td>1.0</td>\n      <td>0.0</td>\n      <td>5</td>\n      <td>0</td>\n      <td>0</td>\n      <td>...</td>\n      <td>68</td>\n      <td>-4224</td>\n      <td>53689</td>\n      <td>616</td>\n      <td>4840</td>\n      <td>1</td>\n      <td>1</td>\n      <td>Arsenal</td>\n      <td>Mesut Özil</td>\n      <td>2020-10-17</td>\n    </tr>\n    <tr>\n      <th>...</th>\n      <td>...</td>\n      <td>...</td>\n      <td>...</td>\n      <td>...</td>\n      <td>...</td>\n      <td>...</td>\n      <td>...</td>\n      <td>...</td>\n      <td>...</td>\n      <td>...</td>\n      <td>...</td>\n      <td>...</td>\n      <td>...</td>\n      <td>...</td>\n      <td>...</td>\n      <td>...</td>\n      <td>...</td>\n      <td>...</td>\n      <td>...</td>\n      <td>...</td>\n      <td>...</td>\n    </tr>\n    <tr>\n      <th>995</th>\n      <td>89</td>\n      <td>20</td>\n      <td>0</td>\n      <td>True</td>\n      <td>2020-11-29T19:15:00Z</td>\n      <td>1.0</td>\n      <td>2.0</td>\n      <td>10</td>\n      <td>0</td>\n      <td>0</td>\n      <td>...</td>\n      <td>50</td>\n      <td>-15129</td>\n      <td>51099</td>\n      <td>682</td>\n      <td>15811</td>\n      <td>567</td>\n      <td>1</td>\n      <td>Arsenal</td>\n      <td>Thomas Partey</td>\n      <td>2020-11-29</td>\n    </tr>\n    <tr>\n      <th>996</th>\n      <td>106</td>\n      <td>17</td>\n      <td>1</td>\n      <td>False</td>\n      <td>2020-12-06T16:30:00Z</td>\n      <td>2.0</td>\n      <td>0.0</td>\n      <td>11</td>\n      <td>45</td>\n      <td>0</td>\n      <td>...</td>\n      <td>50</td>\n      <td>-10758</td>\n      <td>40546</td>\n      <td>525</td>\n      <td>11283</td>\n      <td>567</td>\n      <td>1</td>\n      <td>Arsenal</td>\n      <td>Thomas Partey</td>\n      <td>2020-12-06</td>\n    </tr>\n    <tr>\n      <th>997</th>\n      <td>109</td>\n      <td>4</td>\n      <td>0</td>\n      <td>True</td>\n      <td>2020-12-13T19:15:00Z</td>\n      <td>0.0</td>\n      <td>1.0</td>\n      <td>12</td>\n      <td>0</td>\n      <td>0</td>\n      <td>...</td>\n      <td>50</td>\n      <td>-5346</td>\n      <td>35876</td>\n      <td>702</td>\n      <td>6048</td>\n      <td>567</td>\n      <td>1</td>\n      <td>Arsenal</td>\n      <td>Thomas Partey</td>\n      <td>2020-12-13</td>\n    </tr>\n    <tr>\n      <th>998</th>\n      <td>119</td>\n      <td>16</td>\n      <td>0</td>\n      <td>True</td>\n      <td>2020-12-16T18:00:00Z</td>\n      <td>1.0</td>\n      <td>1.0</td>\n      <td>13</td>\n      <td>0</td>\n      <td>0</td>\n      <td>...</td>\n      <td>50</td>\n      <td>-4174</td>\n      <td>31810</td>\n      <td>102</td>\n      <td>4276</td>\n      <td>567</td>\n      <td>1</td>\n      <td>Arsenal</td>\n      <td>Thomas Partey</td>\n      <td>2020-12-16</td>\n    </tr>\n    <tr>\n      <th>999</th>\n      <td>133</td>\n      <td>7</td>\n      <td>0</td>\n      <td>False</td>\n      <td>2020-12-19T17:30:00Z</td>\n      <td>2.0</td>\n      <td>1.0</td>\n      <td>14</td>\n      <td>0</td>\n      <td>0</td>\n      <td>...</td>\n      <td>50</td>\n      <td>-3279</td>\n      <td>28639</td>\n      <td>83</td>\n      <td>3362</td>\n      <td>567</td>\n      <td>1</td>\n      <td>Arsenal</td>\n      <td>Thomas Partey</td>\n      <td>2020-12-19</td>\n    </tr>\n  </tbody>\n</table>\n<p>1000 rows × 35 columns</p>\n</div>"
     },
     "metadata": {},
     "execution_count": 133
    }
   ],
   "source": []
  },
  {
   "source": [
    "## add position to csv"
   ],
   "cell_type": "markdown",
   "metadata": {}
  },
  {
   "cell_type": "code",
   "execution_count": 21,
   "metadata": {},
   "outputs": [],
   "source": [
    "test = df.merge(player_pos_df, how='inner', left_on='element', right_on='player_id')\n",
    "#df.to_csv('player_stats.csv')\n",
    "\n",
    "\n",
    "#test.to_csv('player_stats_w_pos.csv', index=True)\n",
    "df = pd.read_csv('player_stats_w_pos.csv', header=0, index_col=0)\n"
   ]
  },
  {
   "cell_type": "code",
   "execution_count": 26,
   "metadata": {},
   "outputs": [
    {
     "output_type": "execute_result",
     "data": {
      "text/plain": [
       "   element  fixture  opponent_team  total_points  was_home  \\\n",
       "0        1        2              8             0     False   \n",
       "1        1        9             19             0      True   \n",
       "2        1       23             11             0     False   \n",
       "3        1       29             15             0      True   \n",
       "4        1       44             12             0     False   \n",
       "\n",
       "           kickoff_time  team_h_score  team_a_score  round  minutes  ...  \\\n",
       "0  2020-09-12T11:30:00Z           0.0           3.0      1        0  ...   \n",
       "1  2020-09-19T19:00:00Z           2.0           1.0      2        0  ...   \n",
       "2  2020-09-28T19:00:00Z           3.0           1.0      3        0  ...   \n",
       "3  2020-10-04T13:00:00Z           2.0           1.0      4        0  ...   \n",
       "4  2020-10-17T16:30:00Z           1.0           0.0      5        0  ...   \n",
       "\n",
       "   transfers_out  index  team_id  team_name        name    gameweek  \\\n",
       "0              0      1        1    Arsenal  Mesut Özil  2020-09-12   \n",
       "1          17823      1        1    Arsenal  Mesut Özil  2020-09-19   \n",
       "2          12126      1        1    Arsenal  Mesut Özil  2020-09-28   \n",
       "3           5971      1        1    Arsenal  Mesut Özil  2020-10-04   \n",
       "4           4840      1        1    Arsenal  Mesut Özil  2020-10-17   \n",
       "\n",
       "   element_type_x  position_name_x  element_type_y  position_name_y  \n",
       "0               3       Midfielder               3       Midfielder  \n",
       "1               3       Midfielder               3       Midfielder  \n",
       "2               3       Midfielder               3       Midfielder  \n",
       "3               3       Midfielder               3       Midfielder  \n",
       "4               3       Midfielder               3       Midfielder  \n",
       "\n",
       "[5 rows x 40 columns]"
      ],
      "text/html": "<div>\n<style scoped>\n    .dataframe tbody tr th:only-of-type {\n        vertical-align: middle;\n    }\n\n    .dataframe tbody tr th {\n        vertical-align: top;\n    }\n\n    .dataframe thead th {\n        text-align: right;\n    }\n</style>\n<table border=\"1\" class=\"dataframe\">\n  <thead>\n    <tr style=\"text-align: right;\">\n      <th></th>\n      <th>element</th>\n      <th>fixture</th>\n      <th>opponent_team</th>\n      <th>total_points</th>\n      <th>was_home</th>\n      <th>kickoff_time</th>\n      <th>team_h_score</th>\n      <th>team_a_score</th>\n      <th>round</th>\n      <th>minutes</th>\n      <th>...</th>\n      <th>transfers_out</th>\n      <th>index</th>\n      <th>team_id</th>\n      <th>team_name</th>\n      <th>name</th>\n      <th>gameweek</th>\n      <th>element_type_x</th>\n      <th>position_name_x</th>\n      <th>element_type_y</th>\n      <th>position_name_y</th>\n    </tr>\n  </thead>\n  <tbody>\n    <tr>\n      <th>0</th>\n      <td>1</td>\n      <td>2</td>\n      <td>8</td>\n      <td>0</td>\n      <td>False</td>\n      <td>2020-09-12T11:30:00Z</td>\n      <td>0.0</td>\n      <td>3.0</td>\n      <td>1</td>\n      <td>0</td>\n      <td>...</td>\n      <td>0</td>\n      <td>1</td>\n      <td>1</td>\n      <td>Arsenal</td>\n      <td>Mesut Özil</td>\n      <td>2020-09-12</td>\n      <td>3</td>\n      <td>Midfielder</td>\n      <td>3</td>\n      <td>Midfielder</td>\n    </tr>\n    <tr>\n      <th>1</th>\n      <td>1</td>\n      <td>9</td>\n      <td>19</td>\n      <td>0</td>\n      <td>True</td>\n      <td>2020-09-19T19:00:00Z</td>\n      <td>2.0</td>\n      <td>1.0</td>\n      <td>2</td>\n      <td>0</td>\n      <td>...</td>\n      <td>17823</td>\n      <td>1</td>\n      <td>1</td>\n      <td>Arsenal</td>\n      <td>Mesut Özil</td>\n      <td>2020-09-19</td>\n      <td>3</td>\n      <td>Midfielder</td>\n      <td>3</td>\n      <td>Midfielder</td>\n    </tr>\n    <tr>\n      <th>2</th>\n      <td>1</td>\n      <td>23</td>\n      <td>11</td>\n      <td>0</td>\n      <td>False</td>\n      <td>2020-09-28T19:00:00Z</td>\n      <td>3.0</td>\n      <td>1.0</td>\n      <td>3</td>\n      <td>0</td>\n      <td>...</td>\n      <td>12126</td>\n      <td>1</td>\n      <td>1</td>\n      <td>Arsenal</td>\n      <td>Mesut Özil</td>\n      <td>2020-09-28</td>\n      <td>3</td>\n      <td>Midfielder</td>\n      <td>3</td>\n      <td>Midfielder</td>\n    </tr>\n    <tr>\n      <th>3</th>\n      <td>1</td>\n      <td>29</td>\n      <td>15</td>\n      <td>0</td>\n      <td>True</td>\n      <td>2020-10-04T13:00:00Z</td>\n      <td>2.0</td>\n      <td>1.0</td>\n      <td>4</td>\n      <td>0</td>\n      <td>...</td>\n      <td>5971</td>\n      <td>1</td>\n      <td>1</td>\n      <td>Arsenal</td>\n      <td>Mesut Özil</td>\n      <td>2020-10-04</td>\n      <td>3</td>\n      <td>Midfielder</td>\n      <td>3</td>\n      <td>Midfielder</td>\n    </tr>\n    <tr>\n      <th>4</th>\n      <td>1</td>\n      <td>44</td>\n      <td>12</td>\n      <td>0</td>\n      <td>False</td>\n      <td>2020-10-17T16:30:00Z</td>\n      <td>1.0</td>\n      <td>0.0</td>\n      <td>5</td>\n      <td>0</td>\n      <td>...</td>\n      <td>4840</td>\n      <td>1</td>\n      <td>1</td>\n      <td>Arsenal</td>\n      <td>Mesut Özil</td>\n      <td>2020-10-17</td>\n      <td>3</td>\n      <td>Midfielder</td>\n      <td>3</td>\n      <td>Midfielder</td>\n    </tr>\n  </tbody>\n</table>\n<p>5 rows × 40 columns</p>\n</div>"
     },
     "metadata": {},
     "execution_count": 26
    }
   ],
   "source": [
    "test.head()"
   ]
  },
  {
   "cell_type": "code",
   "execution_count": 24,
   "metadata": {},
   "outputs": [
    {
     "output_type": "error",
     "ename": "KeyError",
     "evalue": "\"['position_name'] not in index\"",
     "traceback": [
      "\u001b[0;31m---------------------------------------------------------------------------\u001b[0m",
      "\u001b[0;31mKeyError\u001b[0m                                  Traceback (most recent call last)",
      "\u001b[0;32m<ipython-input-24-ca59e18d8e14>\u001b[0m in \u001b[0;36m<module>\u001b[0;34m\u001b[0m\n\u001b[0;32m----> 1\u001b[0;31m \u001b[0msm_df\u001b[0m \u001b[0;34m=\u001b[0m \u001b[0mdf\u001b[0m\u001b[0;34m[\u001b[0m\u001b[0;34m[\u001b[0m\u001b[0;34m'element'\u001b[0m\u001b[0;34m,\u001b[0m \u001b[0;34m'name'\u001b[0m\u001b[0;34m,\u001b[0m \u001b[0;34m'team_name'\u001b[0m\u001b[0;34m,\u001b[0m \u001b[0;34m'position_name'\u001b[0m\u001b[0;34m,\u001b[0m\u001b[0;34m'round'\u001b[0m\u001b[0;34m,\u001b[0m \u001b[0;34m'total_points'\u001b[0m\u001b[0;34m]\u001b[0m\u001b[0;34m]\u001b[0m\u001b[0;34m\u001b[0m\u001b[0;34m\u001b[0m\u001b[0m\n\u001b[0m\u001b[1;32m      2\u001b[0m \u001b[0mdisplay\u001b[0m\u001b[0;34m(\u001b[0m\u001b[0msm_df\u001b[0m\u001b[0;34m.\u001b[0m\u001b[0mhead\u001b[0m\u001b[0;34m(\u001b[0m\u001b[0;34m)\u001b[0m\u001b[0;34m)\u001b[0m\u001b[0;34m\u001b[0m\u001b[0;34m\u001b[0m\u001b[0m\n\u001b[1;32m      3\u001b[0m \u001b[0msm_df\u001b[0m\u001b[0;34m.\u001b[0m\u001b[0mto_csv\u001b[0m\u001b[0;34m(\u001b[0m\u001b[0;34m'player_stats_sm.csv'\u001b[0m\u001b[0;34m,\u001b[0m \u001b[0mindex\u001b[0m\u001b[0;34m=\u001b[0m\u001b[0;32mTrue\u001b[0m\u001b[0;34m)\u001b[0m\u001b[0;34m\u001b[0m\u001b[0;34m\u001b[0m\u001b[0m\n",
      "\u001b[0;32m/opt/anaconda3/envs/testing/lib/python3.9/site-packages/pandas/core/frame.py\u001b[0m in \u001b[0;36m__getitem__\u001b[0;34m(self, key)\u001b[0m\n\u001b[1;32m   3028\u001b[0m             \u001b[0;32mif\u001b[0m \u001b[0mis_iterator\u001b[0m\u001b[0;34m(\u001b[0m\u001b[0mkey\u001b[0m\u001b[0;34m)\u001b[0m\u001b[0;34m:\u001b[0m\u001b[0;34m\u001b[0m\u001b[0;34m\u001b[0m\u001b[0m\n\u001b[1;32m   3029\u001b[0m                 \u001b[0mkey\u001b[0m \u001b[0;34m=\u001b[0m \u001b[0mlist\u001b[0m\u001b[0;34m(\u001b[0m\u001b[0mkey\u001b[0m\u001b[0;34m)\u001b[0m\u001b[0;34m\u001b[0m\u001b[0;34m\u001b[0m\u001b[0m\n\u001b[0;32m-> 3030\u001b[0;31m             \u001b[0mindexer\u001b[0m \u001b[0;34m=\u001b[0m \u001b[0mself\u001b[0m\u001b[0;34m.\u001b[0m\u001b[0mloc\u001b[0m\u001b[0;34m.\u001b[0m\u001b[0m_get_listlike_indexer\u001b[0m\u001b[0;34m(\u001b[0m\u001b[0mkey\u001b[0m\u001b[0;34m,\u001b[0m \u001b[0maxis\u001b[0m\u001b[0;34m=\u001b[0m\u001b[0;36m1\u001b[0m\u001b[0;34m,\u001b[0m \u001b[0mraise_missing\u001b[0m\u001b[0;34m=\u001b[0m\u001b[0;32mTrue\u001b[0m\u001b[0;34m)\u001b[0m\u001b[0;34m[\u001b[0m\u001b[0;36m1\u001b[0m\u001b[0;34m]\u001b[0m\u001b[0;34m\u001b[0m\u001b[0;34m\u001b[0m\u001b[0m\n\u001b[0m\u001b[1;32m   3031\u001b[0m \u001b[0;34m\u001b[0m\u001b[0m\n\u001b[1;32m   3032\u001b[0m         \u001b[0;31m# take() does not accept boolean indexers\u001b[0m\u001b[0;34m\u001b[0m\u001b[0;34m\u001b[0m\u001b[0;34m\u001b[0m\u001b[0m\n",
      "\u001b[0;32m/opt/anaconda3/envs/testing/lib/python3.9/site-packages/pandas/core/indexing.py\u001b[0m in \u001b[0;36m_get_listlike_indexer\u001b[0;34m(self, key, axis, raise_missing)\u001b[0m\n\u001b[1;32m   1264\u001b[0m             \u001b[0mkeyarr\u001b[0m\u001b[0;34m,\u001b[0m \u001b[0mindexer\u001b[0m\u001b[0;34m,\u001b[0m \u001b[0mnew_indexer\u001b[0m \u001b[0;34m=\u001b[0m \u001b[0max\u001b[0m\u001b[0;34m.\u001b[0m\u001b[0m_reindex_non_unique\u001b[0m\u001b[0;34m(\u001b[0m\u001b[0mkeyarr\u001b[0m\u001b[0;34m)\u001b[0m\u001b[0;34m\u001b[0m\u001b[0;34m\u001b[0m\u001b[0m\n\u001b[1;32m   1265\u001b[0m \u001b[0;34m\u001b[0m\u001b[0m\n\u001b[0;32m-> 1266\u001b[0;31m         \u001b[0mself\u001b[0m\u001b[0;34m.\u001b[0m\u001b[0m_validate_read_indexer\u001b[0m\u001b[0;34m(\u001b[0m\u001b[0mkeyarr\u001b[0m\u001b[0;34m,\u001b[0m \u001b[0mindexer\u001b[0m\u001b[0;34m,\u001b[0m \u001b[0maxis\u001b[0m\u001b[0;34m,\u001b[0m \u001b[0mraise_missing\u001b[0m\u001b[0;34m=\u001b[0m\u001b[0mraise_missing\u001b[0m\u001b[0;34m)\u001b[0m\u001b[0;34m\u001b[0m\u001b[0;34m\u001b[0m\u001b[0m\n\u001b[0m\u001b[1;32m   1267\u001b[0m         \u001b[0;32mreturn\u001b[0m \u001b[0mkeyarr\u001b[0m\u001b[0;34m,\u001b[0m \u001b[0mindexer\u001b[0m\u001b[0;34m\u001b[0m\u001b[0;34m\u001b[0m\u001b[0m\n\u001b[1;32m   1268\u001b[0m \u001b[0;34m\u001b[0m\u001b[0m\n",
      "\u001b[0;32m/opt/anaconda3/envs/testing/lib/python3.9/site-packages/pandas/core/indexing.py\u001b[0m in \u001b[0;36m_validate_read_indexer\u001b[0;34m(self, key, indexer, axis, raise_missing)\u001b[0m\n\u001b[1;32m   1314\u001b[0m             \u001b[0;32mif\u001b[0m \u001b[0mraise_missing\u001b[0m\u001b[0;34m:\u001b[0m\u001b[0;34m\u001b[0m\u001b[0;34m\u001b[0m\u001b[0m\n\u001b[1;32m   1315\u001b[0m                 \u001b[0mnot_found\u001b[0m \u001b[0;34m=\u001b[0m \u001b[0mlist\u001b[0m\u001b[0;34m(\u001b[0m\u001b[0mset\u001b[0m\u001b[0;34m(\u001b[0m\u001b[0mkey\u001b[0m\u001b[0;34m)\u001b[0m \u001b[0;34m-\u001b[0m \u001b[0mset\u001b[0m\u001b[0;34m(\u001b[0m\u001b[0max\u001b[0m\u001b[0;34m)\u001b[0m\u001b[0;34m)\u001b[0m\u001b[0;34m\u001b[0m\u001b[0;34m\u001b[0m\u001b[0m\n\u001b[0;32m-> 1316\u001b[0;31m                 \u001b[0;32mraise\u001b[0m \u001b[0mKeyError\u001b[0m\u001b[0;34m(\u001b[0m\u001b[0;34mf\"{not_found} not in index\"\u001b[0m\u001b[0;34m)\u001b[0m\u001b[0;34m\u001b[0m\u001b[0;34m\u001b[0m\u001b[0m\n\u001b[0m\u001b[1;32m   1317\u001b[0m \u001b[0;34m\u001b[0m\u001b[0m\n\u001b[1;32m   1318\u001b[0m             \u001b[0mnot_found\u001b[0m \u001b[0;34m=\u001b[0m \u001b[0mkey\u001b[0m\u001b[0;34m[\u001b[0m\u001b[0mmissing_mask\u001b[0m\u001b[0;34m]\u001b[0m\u001b[0;34m\u001b[0m\u001b[0;34m\u001b[0m\u001b[0m\n",
      "\u001b[0;31mKeyError\u001b[0m: \"['position_name'] not in index\""
     ]
    }
   ],
   "source": [
    "sm_df = df[['element', 'name', 'team_name', 'position_name','round', 'total_points']]\n",
    "display(sm_df.head())\n",
    "sm_df.to_csv('player_stats_sm.csv', index=True)"
   ]
  },
  {
   "cell_type": "code",
   "execution_count": null,
   "metadata": {},
   "outputs": [],
   "source": []
  }
 ]
}